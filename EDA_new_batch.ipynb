{
  "nbformat": 4,
  "nbformat_minor": 0,
  "metadata": {
    "colab": {
      "name": "EDA_new_batch.ipynb",
      "provenance": [],
      "authorship_tag": "ABX9TyNVG12A8KvQInQt8JBarEof",
      "include_colab_link": true
    },
    "kernelspec": {
      "name": "python3",
      "display_name": "Python 3"
    },
    "language_info": {
      "name": "python"
    }
  },
  "cells": [
    {
      "cell_type": "markdown",
      "metadata": {
        "id": "view-in-github",
        "colab_type": "text"
      },
      "source": [
        "<a href=\"https://colab.research.google.com/github/mohdahmad242/PID-detection/blob/main/EDA_new_batch.ipynb\" target=\"_parent\"><img src=\"https://colab.research.google.com/assets/colab-badge.svg\" alt=\"Open In Colab\"/></a>"
      ]
    },
    {
      "cell_type": "code",
      "metadata": {
        "id": "ni4IYKeSNaiA"
      },
      "source": [
        "from google.colab import drive\n",
        "drive.mount('/content/drive')"
      ],
      "execution_count": null,
      "outputs": []
    },
    {
      "cell_type": "markdown",
      "metadata": {
        "id": "u7eN22Lw9OAd"
      },
      "source": [
        "# Import Library "
      ]
    },
    {
      "cell_type": "code",
      "metadata": {
        "id": "7dO-0qklzopo"
      },
      "source": [
        "import json\n",
        "import pandas as pd\n",
        "import cv2\n",
        "import random\n",
        "import os\n",
        "from os import listdir\n",
        "from os.path import isfile, join"
      ],
      "execution_count": null,
      "outputs": []
    },
    {
      "cell_type": "markdown",
      "metadata": {
        "id": "z08aK5XD9VFy"
      },
      "source": [
        "# New annotations"
      ]
    },
    {
      "cell_type": "code",
      "metadata": {
        "id": "V9jWdhZnNqAY"
      },
      "source": [
        "annotation_dir = \"/content/drive/MyDrive/Official Folder DigitalTwins/Data/coco_converted/annots\"\n",
        "img_anno = [join(annotation_dir, f) for f in listdir(annotation_dir) if isfile(join(annotation_dir, f))]"
      ],
      "execution_count": null,
      "outputs": []
    },
    {
      "cell_type": "code",
      "metadata": {
        "id": "w_DO-PxlPPzt"
      },
      "source": [
        "final_anno = []\n",
        "for file in img_anno:\n",
        "  with open(file) as f:\n",
        "    anno = json.load(f)\n",
        "  final_anno.extend(anno['annotations'])"
      ],
      "execution_count": null,
      "outputs": []
    },
    {
      "cell_type": "code",
      "metadata": {
        "id": "3cA8hIFhRRMf"
      },
      "source": [
        "df = pd.DataFrame(final_anno)"
      ],
      "execution_count": null,
      "outputs": []
    },
    {
      "cell_type": "code",
      "metadata": {
        "colab": {
          "base_uri": "https://localhost:8080/"
        },
        "id": "ntakIs2LRV7t",
        "outputId": "df6a259d-7202-4b00-9e66-5a9145297297"
      },
      "source": [
        "df.info()"
      ],
      "execution_count": null,
      "outputs": [
        {
          "output_type": "stream",
          "text": [
            "<class 'pandas.core.frame.DataFrame'>\n",
            "RangeIndex: 6373 entries, 0 to 6372\n",
            "Data columns (total 10 columns):\n",
            " #   Column        Non-Null Count  Dtype  \n",
            "---  ------        --------------  -----  \n",
            " 0   area          4316 non-null   float64\n",
            " 1   bbox          6373 non-null   object \n",
            " 2   category_id   6373 non-null   int64  \n",
            " 3   annot_id      6373 non-null   int64  \n",
            " 4   image_id      6373 non-null   int64  \n",
            " 5   iscrowd       6373 non-null   int64  \n",
            " 6   segmentation  4316 non-null   object \n",
            " 7   classId       6373 non-null   object \n",
            " 8   className     6373 non-null   object \n",
            " 9   value         6373 non-null   object \n",
            "dtypes: float64(1), int64(4), object(5)\n",
            "memory usage: 498.0+ KB\n"
          ],
          "name": "stdout"
        }
      ]
    },
    {
      "cell_type": "code",
      "metadata": {
        "colab": {
          "base_uri": "https://localhost:8080/",
          "height": 289
        },
        "id": "UYHpy_4zRYxc",
        "outputId": "6505b73a-9b30-4b66-8535-81154c2bc2ad"
      },
      "source": [
        "df.head()"
      ],
      "execution_count": null,
      "outputs": [
        {
          "output_type": "execute_result",
          "data": {
            "text/html": [
              "<div>\n",
              "<style scoped>\n",
              "    .dataframe tbody tr th:only-of-type {\n",
              "        vertical-align: middle;\n",
              "    }\n",
              "\n",
              "    .dataframe tbody tr th {\n",
              "        vertical-align: top;\n",
              "    }\n",
              "\n",
              "    .dataframe thead th {\n",
              "        text-align: right;\n",
              "    }\n",
              "</style>\n",
              "<table border=\"1\" class=\"dataframe\">\n",
              "  <thead>\n",
              "    <tr style=\"text-align: right;\">\n",
              "      <th></th>\n",
              "      <th>area</th>\n",
              "      <th>bbox</th>\n",
              "      <th>category_id</th>\n",
              "      <th>annot_id</th>\n",
              "      <th>image_id</th>\n",
              "      <th>iscrowd</th>\n",
              "      <th>segmentation</th>\n",
              "      <th>classId</th>\n",
              "      <th>className</th>\n",
              "      <th>value</th>\n",
              "    </tr>\n",
              "  </thead>\n",
              "  <tbody>\n",
              "    <tr>\n",
              "      <th>0</th>\n",
              "      <td>24226.470188</td>\n",
              "      <td>[2065.2572, 4933.39, 156.34539999999998, 154.9...</td>\n",
              "      <td>0</td>\n",
              "      <td>0</td>\n",
              "      <td>0</td>\n",
              "      <td>0</td>\n",
              "      <td>[2065.2572, 4933.39, 2221.6026, 4933.39, 2221....</td>\n",
              "      <td>303a720d</td>\n",
              "      <td>Instrument</td>\n",
              "      <td></td>\n",
              "    </tr>\n",
              "    <tr>\n",
              "      <th>1</th>\n",
              "      <td>25591.603699</td>\n",
              "      <td>[3375.9372, 4858.5614000000005, 161.0264, 158....</td>\n",
              "      <td>0</td>\n",
              "      <td>1</td>\n",
              "      <td>0</td>\n",
              "      <td>0</td>\n",
              "      <td>[3375.9372, 4858.5614000000005, 3536.9636, 485...</td>\n",
              "      <td>ce708ed0</td>\n",
              "      <td>Instrument</td>\n",
              "      <td></td>\n",
              "    </tr>\n",
              "    <tr>\n",
              "      <th>2</th>\n",
              "      <td>33076.899801</td>\n",
              "      <td>[1715.1184, 4926.1058, 192.8572, 171.509799999...</td>\n",
              "      <td>0</td>\n",
              "      <td>2</td>\n",
              "      <td>0</td>\n",
              "      <td>0</td>\n",
              "      <td>[1715.1184, 4926.1058, 1907.9756, 4926.1058, 1...</td>\n",
              "      <td>88588391</td>\n",
              "      <td>text</td>\n",
              "      <td>41LAL 14</td>\n",
              "    </tr>\n",
              "    <tr>\n",
              "      <th>3</th>\n",
              "      <td>15912.918696</td>\n",
              "      <td>[4805.5145999999995, 4279.1364, 129.1955999999...</td>\n",
              "      <td>0</td>\n",
              "      <td>3</td>\n",
              "      <td>0</td>\n",
              "      <td>0</td>\n",
              "      <td>[4805.5145999999995, 4279.1364, 4934.710199999...</td>\n",
              "      <td>af6b0c8f</td>\n",
              "      <td>Unidentified</td>\n",
              "      <td></td>\n",
              "    </tr>\n",
              "    <tr>\n",
              "      <th>4</th>\n",
              "      <td>7769.853904</td>\n",
              "      <td>[3721.395, 3626.2072, 141.3662, 54.9626]</td>\n",
              "      <td>0</td>\n",
              "      <td>4</td>\n",
              "      <td>0</td>\n",
              "      <td>0</td>\n",
              "      <td>[3721.395, 3626.2072, 3862.7612, 3626.2072, 38...</td>\n",
              "      <td>d6952e31</td>\n",
              "      <td>Valve</td>\n",
              "      <td></td>\n",
              "    </tr>\n",
              "  </tbody>\n",
              "</table>\n",
              "</div>"
            ],
            "text/plain": [
              "           area  ...     value\n",
              "0  24226.470188  ...          \n",
              "1  25591.603699  ...          \n",
              "2  33076.899801  ...  41LAL 14\n",
              "3  15912.918696  ...          \n",
              "4   7769.853904  ...          \n",
              "\n",
              "[5 rows x 10 columns]"
            ]
          },
          "metadata": {},
          "execution_count": 93
        }
      ]
    },
    {
      "cell_type": "code",
      "metadata": {
        "colab": {
          "base_uri": "https://localhost:8080/"
        },
        "id": "ru55qFnHRYtx",
        "outputId": "7e56b12c-271c-4d79-ff37-5fd54497a120"
      },
      "source": [
        "df.className.unique().shape"
      ],
      "execution_count": null,
      "outputs": [
        {
          "output_type": "execute_result",
          "data": {
            "text/plain": [
              "(18,)"
            ]
          },
          "metadata": {},
          "execution_count": 26
        }
      ]
    },
    {
      "cell_type": "code",
      "metadata": {
        "id": "GssTTnT2No4I"
      },
      "source": [
        "line = df[df.className == 'line']"
      ],
      "execution_count": null,
      "outputs": []
    },
    {
      "cell_type": "code",
      "metadata": {
        "colab": {
          "base_uri": "https://localhost:8080/",
          "height": 204
        },
        "id": "Z-sItXfINvO6",
        "outputId": "18fdeedf-5d92-447c-e05c-cc8fd7738852"
      },
      "source": [
        "line.head()"
      ],
      "execution_count": null,
      "outputs": [
        {
          "output_type": "execute_result",
          "data": {
            "text/html": [
              "<div>\n",
              "<style scoped>\n",
              "    .dataframe tbody tr th:only-of-type {\n",
              "        vertical-align: middle;\n",
              "    }\n",
              "\n",
              "    .dataframe tbody tr th {\n",
              "        vertical-align: top;\n",
              "    }\n",
              "\n",
              "    .dataframe thead th {\n",
              "        text-align: right;\n",
              "    }\n",
              "</style>\n",
              "<table border=\"1\" class=\"dataframe\">\n",
              "  <thead>\n",
              "    <tr style=\"text-align: right;\">\n",
              "      <th></th>\n",
              "      <th>area</th>\n",
              "      <th>bbox</th>\n",
              "      <th>category_id</th>\n",
              "      <th>annot_id</th>\n",
              "      <th>image_id</th>\n",
              "      <th>iscrowd</th>\n",
              "      <th>segmentation</th>\n",
              "      <th>classId</th>\n",
              "      <th>className</th>\n",
              "      <th>value</th>\n",
              "    </tr>\n",
              "  </thead>\n",
              "  <tbody>\n",
              "    <tr>\n",
              "      <th>98</th>\n",
              "      <td>NaN</td>\n",
              "      <td>[4722.1928, 4301.651199999999, 87.0666, 62.2468]</td>\n",
              "      <td>2</td>\n",
              "      <td>98</td>\n",
              "      <td>0</td>\n",
              "      <td>0</td>\n",
              "      <td>None</td>\n",
              "      <td>2eb6393d</td>\n",
              "      <td>line</td>\n",
              "      <td></td>\n",
              "    </tr>\n",
              "    <tr>\n",
              "      <th>99</th>\n",
              "      <td>NaN</td>\n",
              "      <td>[4722.1928, 4301.651199999999, 87.0666, 62.2468]</td>\n",
              "      <td>2</td>\n",
              "      <td>99</td>\n",
              "      <td>0</td>\n",
              "      <td>0</td>\n",
              "      <td>None</td>\n",
              "      <td>5416f233</td>\n",
              "      <td>line</td>\n",
              "      <td></td>\n",
              "    </tr>\n",
              "    <tr>\n",
              "      <th>100</th>\n",
              "      <td>NaN</td>\n",
              "      <td>[4722.1928, 4301.651199999999, 87.0666, 62.2468]</td>\n",
              "      <td>2</td>\n",
              "      <td>100</td>\n",
              "      <td>0</td>\n",
              "      <td>0</td>\n",
              "      <td>None</td>\n",
              "      <td>6372b6b0</td>\n",
              "      <td>line</td>\n",
              "      <td></td>\n",
              "    </tr>\n",
              "    <tr>\n",
              "      <th>101</th>\n",
              "      <td>NaN</td>\n",
              "      <td>[4722.1928, 4301.651199999999, 87.0666, 62.2468]</td>\n",
              "      <td>2</td>\n",
              "      <td>101</td>\n",
              "      <td>0</td>\n",
              "      <td>0</td>\n",
              "      <td>None</td>\n",
              "      <td>0862930c</td>\n",
              "      <td>line</td>\n",
              "      <td></td>\n",
              "    </tr>\n",
              "    <tr>\n",
              "      <th>102</th>\n",
              "      <td>NaN</td>\n",
              "      <td>[4722.1928, 4301.651199999999, 87.0666, 62.2468]</td>\n",
              "      <td>2</td>\n",
              "      <td>102</td>\n",
              "      <td>0</td>\n",
              "      <td>0</td>\n",
              "      <td>None</td>\n",
              "      <td>32ce779b</td>\n",
              "      <td>line</td>\n",
              "      <td></td>\n",
              "    </tr>\n",
              "  </tbody>\n",
              "</table>\n",
              "</div>"
            ],
            "text/plain": [
              "     area                                              bbox  ...  className  value\n",
              "98    NaN  [4722.1928, 4301.651199999999, 87.0666, 62.2468]  ...       line       \n",
              "99    NaN  [4722.1928, 4301.651199999999, 87.0666, 62.2468]  ...       line       \n",
              "100   NaN  [4722.1928, 4301.651199999999, 87.0666, 62.2468]  ...       line       \n",
              "101   NaN  [4722.1928, 4301.651199999999, 87.0666, 62.2468]  ...       line       \n",
              "102   NaN  [4722.1928, 4301.651199999999, 87.0666, 62.2468]  ...       line       \n",
              "\n",
              "[5 rows x 10 columns]"
            ]
          },
          "metadata": {},
          "execution_count": 101
        }
      ]
    },
    {
      "cell_type": "code",
      "metadata": {
        "colab": {
          "base_uri": "https://localhost:8080/"
        },
        "id": "NBL0ZYIURYqT",
        "outputId": "56e59025-a420-4763-81bd-3dcf70d2dd90"
      },
      "source": [
        "df.className.unique()"
      ],
      "execution_count": null,
      "outputs": [
        {
          "output_type": "execute_result",
          "data": {
            "text/plain": [
              "array(['Instrument', 'text', 'Unidentified', 'Valve', 'Flow_Direction',\n",
              "       'Plug', 'Flange', 'Tank_Vessel', 'unidentified', 'line', 'Pump',\n",
              "       'Engine', 'Line_Break', 'Actuator', 'Connector', 'Concentric',\n",
              "       'Separator', 'Flange_Blind'], dtype=object)"
            ]
          },
          "metadata": {},
          "execution_count": 94
        }
      ]
    },
    {
      "cell_type": "code",
      "metadata": {
        "id": "BTzfVUrXNUXm"
      },
      "source": [
        "df.className = df.className.str.lower()"
      ],
      "execution_count": null,
      "outputs": []
    },
    {
      "cell_type": "code",
      "metadata": {
        "colab": {
          "base_uri": "https://localhost:8080/"
        },
        "id": "5MpAwrcLNYYg",
        "outputId": "a2f7caa1-808c-45a2-8581-21b3c93920e1"
      },
      "source": [
        "df.className.unique(), df.className.unique().shape"
      ],
      "execution_count": null,
      "outputs": [
        {
          "output_type": "execute_result",
          "data": {
            "text/plain": [
              "(array(['instrument', 'text', 'unidentified', 'valve', 'flow_direction',\n",
              "        'plug', 'flange', 'tank_vessel', 'line', 'pump', 'engine',\n",
              "        'line_break', 'actuator', 'connector', 'concentric', 'separator',\n",
              "        'flange_blind'], dtype=object), (17,))"
            ]
          },
          "metadata": {},
          "execution_count": 99
        }
      ]
    },
    {
      "cell_type": "markdown",
      "metadata": {
        "id": "8etrNLf1Sv9W"
      },
      "source": [
        "# Old Annotations"
      ]
    },
    {
      "cell_type": "code",
      "metadata": {
        "id": "YKEoNa-kRYfh"
      },
      "source": [
        "with open(\"/content/PID (1).json\") as f:\n",
        "  ann = json.load(f)"
      ],
      "execution_count": null,
      "outputs": []
    },
    {
      "cell_type": "code",
      "metadata": {
        "colab": {
          "base_uri": "https://localhost:8080/"
        },
        "id": "M16OckLCUgrW",
        "outputId": "cf9a6b9d-20e6-458d-abdb-841f5ffd3b85"
      },
      "source": [
        "ann.keys()"
      ],
      "execution_count": null,
      "outputs": [
        {
          "output_type": "execute_result",
          "data": {
            "text/plain": [
              "dict_keys(['info', 'licenses', 'images', 'annotations', 'categories'])"
            ]
          },
          "metadata": {},
          "execution_count": 103
        }
      ]
    },
    {
      "cell_type": "code",
      "metadata": {
        "id": "XetWwU-BWeB9"
      },
      "source": [
        ""
      ],
      "execution_count": null,
      "outputs": []
    },
    {
      "cell_type": "code",
      "metadata": {
        "id": "cvUaVjxmVq3B"
      },
      "source": [
        "old_df = pd.DataFrame(ann['annotations'])"
      ],
      "execution_count": null,
      "outputs": []
    },
    {
      "cell_type": "code",
      "metadata": {
        "id": "yBBiikTESwMd",
        "colab": {
          "base_uri": "https://localhost:8080/"
        },
        "outputId": "c7e7d4d4-c8c5-4311-95cd-11ef29f2684a"
      },
      "source": [
        "old_df.info()"
      ],
      "execution_count": null,
      "outputs": [
        {
          "output_type": "stream",
          "text": [
            "<class 'pandas.core.frame.DataFrame'>\n",
            "RangeIndex: 6225 entries, 0 to 6224\n",
            "Data columns (total 7 columns):\n",
            " #   Column        Non-Null Count  Dtype \n",
            "---  ------        --------------  ----- \n",
            " 0   id            6225 non-null   int64 \n",
            " 1   image_id      6225 non-null   int64 \n",
            " 2   segmentation  6225 non-null   object\n",
            " 3   iscrowd       6225 non-null   int64 \n",
            " 4   bbox          6225 non-null   object\n",
            " 5   area          6225 non-null   int64 \n",
            " 6   category_id   6225 non-null   int64 \n",
            "dtypes: int64(5), object(2)\n",
            "memory usage: 340.6+ KB\n"
          ],
          "name": "stdout"
        }
      ]
    },
    {
      "cell_type": "code",
      "metadata": {
        "colab": {
          "base_uri": "https://localhost:8080/"
        },
        "id": "VoxIhle4WILU",
        "outputId": "46457e2a-6ca4-4887-d152-518dd43db74a"
      },
      "source": [
        "6373+6225"
      ],
      "execution_count": null,
      "outputs": [
        {
          "output_type": "execute_result",
          "data": {
            "text/plain": [
              "12598"
            ]
          },
          "metadata": {},
          "execution_count": 106
        }
      ]
    },
    {
      "cell_type": "code",
      "metadata": {
        "id": "seRN5DgnXE-r"
      },
      "source": [
        "def add_class(col):\n",
        "  for i in ann['categories']:\n",
        "    if i['id'] == col:\n",
        "      return i['name'].lower()"
      ],
      "execution_count": null,
      "outputs": []
    },
    {
      "cell_type": "code",
      "metadata": {
        "id": "xPwcCCmPXolA"
      },
      "source": [
        "old_df['className'] = old_df['category_id'].apply(add_class)"
      ],
      "execution_count": null,
      "outputs": []
    },
    {
      "cell_type": "code",
      "metadata": {
        "colab": {
          "base_uri": "https://localhost:8080/",
          "height": 204
        },
        "id": "QKSHjAmKWNla",
        "outputId": "f0a8525d-86b3-476e-ac01-4be00f8c9667"
      },
      "source": [
        "old_df.head()"
      ],
      "execution_count": null,
      "outputs": [
        {
          "output_type": "execute_result",
          "data": {
            "text/html": [
              "<div>\n",
              "<style scoped>\n",
              "    .dataframe tbody tr th:only-of-type {\n",
              "        vertical-align: middle;\n",
              "    }\n",
              "\n",
              "    .dataframe tbody tr th {\n",
              "        vertical-align: top;\n",
              "    }\n",
              "\n",
              "    .dataframe thead th {\n",
              "        text-align: right;\n",
              "    }\n",
              "</style>\n",
              "<table border=\"1\" class=\"dataframe\">\n",
              "  <thead>\n",
              "    <tr style=\"text-align: right;\">\n",
              "      <th></th>\n",
              "      <th>id</th>\n",
              "      <th>image_id</th>\n",
              "      <th>segmentation</th>\n",
              "      <th>iscrowd</th>\n",
              "      <th>bbox</th>\n",
              "      <th>area</th>\n",
              "      <th>category_id</th>\n",
              "      <th>className</th>\n",
              "    </tr>\n",
              "  </thead>\n",
              "  <tbody>\n",
              "    <tr>\n",
              "      <th>0</th>\n",
              "      <td>1</td>\n",
              "      <td>1</td>\n",
              "      <td>[[5130.92, 3420.16, 5130.92, 3529.81, 5241.13,...</td>\n",
              "      <td>0</td>\n",
              "      <td>[5130.92, 3420.16, 110.21000000000004, 109.650...</td>\n",
              "      <td>385600</td>\n",
              "      <td>352833</td>\n",
              "      <td>instrument</td>\n",
              "    </tr>\n",
              "    <tr>\n",
              "      <th>1</th>\n",
              "      <td>2</td>\n",
              "      <td>1</td>\n",
              "      <td>[[3520.11, 3419.77, 3520.11, 3529.25, 3630.55,...</td>\n",
              "      <td>0</td>\n",
              "      <td>[3520.11, 3419.77, 110.44000000000005, 109.480...</td>\n",
              "      <td>386350</td>\n",
              "      <td>352833</td>\n",
              "      <td>instrument</td>\n",
              "    </tr>\n",
              "    <tr>\n",
              "      <th>2</th>\n",
              "      <td>3</td>\n",
              "      <td>1</td>\n",
              "      <td>[[2655.96, 3419.43, 2655.96, 3529.17, 2764.54,...</td>\n",
              "      <td>0</td>\n",
              "      <td>[2655.96, 3419.43, 108.57999999999993, 109.740...</td>\n",
              "      <td>379777</td>\n",
              "      <td>352833</td>\n",
              "      <td>instrument</td>\n",
              "    </tr>\n",
              "    <tr>\n",
              "      <th>3</th>\n",
              "      <td>4</td>\n",
              "      <td>1</td>\n",
              "      <td>[[3640.81, 3074.69, 3640.81, 3118.19, 3682.77,...</td>\n",
              "      <td>0</td>\n",
              "      <td>[3640.81, 3074.69, 41.960000000000036, 43.5]</td>\n",
              "      <td>127764</td>\n",
              "      <td>352842</td>\n",
              "      <td>concentric</td>\n",
              "    </tr>\n",
              "    <tr>\n",
              "      <th>4</th>\n",
              "      <td>5</td>\n",
              "      <td>1</td>\n",
              "      <td>[[3466.15, 3282.72, 3466.15, 3341.81, 3522.46,...</td>\n",
              "      <td>0</td>\n",
              "      <td>[3466.15, 3282.72, 56.309999999999945, 59.0900...</td>\n",
              "      <td>184894</td>\n",
              "      <td>352845</td>\n",
              "      <td>line_break</td>\n",
              "    </tr>\n",
              "  </tbody>\n",
              "</table>\n",
              "</div>"
            ],
            "text/plain": [
              "   id  image_id  ... category_id   className\n",
              "0   1         1  ...      352833  instrument\n",
              "1   2         1  ...      352833  instrument\n",
              "2   3         1  ...      352833  instrument\n",
              "3   4         1  ...      352842  concentric\n",
              "4   5         1  ...      352845  line_break\n",
              "\n",
              "[5 rows x 8 columns]"
            ]
          },
          "metadata": {},
          "execution_count": 115
        }
      ]
    },
    {
      "cell_type": "code",
      "metadata": {
        "colab": {
          "base_uri": "https://localhost:8080/"
        },
        "id": "bpQXEuzMWUNA",
        "outputId": "e435ba67-7531-471f-e4ff-a37f45805982"
      },
      "source": [
        "print((old_df.className.unique())), print(df.className.unique())"
      ],
      "execution_count": null,
      "outputs": [
        {
          "output_type": "stream",
          "text": [
            "['instrument' 'concentric' 'line_break' 'flow_direction' 'unidentified'\n",
            " 'inside text' 'text' 'tank_vessel' 'valve' 'flange' 'actuator'\n",
            " 'connector' 'separator' 'engine' 'plug' 'flange_blind' 'piping_lines'\n",
            " 'other_lines']\n",
            "['instrument' 'text' 'unidentified' 'valve' 'flow_direction' 'plug'\n",
            " 'flange' 'tank_vessel' 'line' 'pump' 'engine' 'line_break' 'actuator'\n",
            " 'connector' 'concentric' 'separator' 'flange_blind']\n"
          ],
          "name": "stdout"
        },
        {
          "output_type": "execute_result",
          "data": {
            "text/plain": [
              "(None, None)"
            ]
          },
          "metadata": {},
          "execution_count": 116
        }
      ]
    },
    {
      "cell_type": "code",
      "metadata": {
        "id": "JLYyi1kuX_EH"
      },
      "source": [
        "old = old_df.className.unique().tolist()\n",
        "old.sort()\n",
        "new = df.className.unique().tolist()\n",
        "new.sort()"
      ],
      "execution_count": null,
      "outputs": []
    },
    {
      "cell_type": "code",
      "metadata": {
        "colab": {
          "base_uri": "https://localhost:8080/"
        },
        "id": "Fs0OnHhtYpzy",
        "outputId": "b912c53b-c1f8-4a22-a4ed-e63c23d2cadc"
      },
      "source": [
        "old, len(old)"
      ],
      "execution_count": null,
      "outputs": [
        {
          "output_type": "execute_result",
          "data": {
            "text/plain": [
              "(['actuator',\n",
              "  'concentric',\n",
              "  'connector',\n",
              "  'engine',\n",
              "  'flange',\n",
              "  'flange_blind',\n",
              "  'flow_direction',\n",
              "  'inside text',\n",
              "  'instrument',\n",
              "  'line_break',\n",
              "  'other_lines',\n",
              "  'piping_lines',\n",
              "  'plug',\n",
              "  'separator',\n",
              "  'tank_vessel',\n",
              "  'text',\n",
              "  'unidentified',\n",
              "  'valve'],\n",
              " 18)"
            ]
          },
          "metadata": {},
          "execution_count": 129
        }
      ]
    },
    {
      "cell_type": "code",
      "metadata": {
        "id": "3EYITe-BPCRG"
      },
      "source": [
        "Total number of classes in old annotations are 18,\n",
        "These are the classes that old have but not there in new one -> \"inside text\", \"other_lines\", and \"piping_lines\".\n",
        "Total number of classes in New annotations are 17,\n",
        "Classes that are present in new annotations but are not in old one -> \"line\" and \"pump\"\n",
        "\n",
        "My suggestion is to combine \"other_lines\" and \"piping_lines\" to create one \"line\" class similar to New annotation. \n",
        "And also combine \"inside text\" class with \"text\" class in old annotation. \n",
        "After that we can use both annotations combined. "
      ],
      "execution_count": null,
      "outputs": []
    },
    {
      "cell_type": "code",
      "metadata": {
        "colab": {
          "base_uri": "https://localhost:8080/"
        },
        "id": "-60U6U65Oxox",
        "outputId": "07f51bec-da5a-44c3-c029-f6f3b84be8dc"
      },
      "source": [
        "new, len(new)"
      ],
      "execution_count": null,
      "outputs": [
        {
          "output_type": "execute_result",
          "data": {
            "text/plain": [
              "(['actuator',\n",
              "  'concentric',\n",
              "  'connector',\n",
              "  'engine',\n",
              "  'flange',\n",
              "  'flange_blind',\n",
              "  'flow_direction',\n",
              "  'instrument',\n",
              "  'line',\n",
              "  'line_break',\n",
              "  'plug',\n",
              "  'pump',\n",
              "  'separator',\n",
              "  'tank_vessel',\n",
              "  'text',\n",
              "  'unidentified',\n",
              "  'valve'],\n",
              " 17)"
            ]
          },
          "metadata": {},
          "execution_count": 130
        }
      ]
    },
    {
      "cell_type": "code",
      "metadata": {
        "id": "HWjAnPahY4xk"
      },
      "source": [
        "class_comp = {\n",
        "    \"old\": old,\n",
        "    \"new\": new\n",
        "}"
      ],
      "execution_count": null,
      "outputs": []
    },
    {
      "cell_type": "code",
      "metadata": {
        "id": "2pwur4_nY6MR"
      },
      "source": [
        ""
      ],
      "execution_count": null,
      "outputs": []
    },
    {
      "cell_type": "code",
      "metadata": {
        "id": "Gnc7ewVAOlHp"
      },
      "source": [
        ""
      ],
      "execution_count": null,
      "outputs": []
    }
  ]
}